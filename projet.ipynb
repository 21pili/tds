{
 "cells": [
  {
   "cell_type": "markdown",
   "metadata": {},
   "source": [
    "Mini-projet : Interpolation de Données Manquantes\n",
    "==============================\n",
    "\n",
    "*Contexte* : dans le cadre d'acquisition de données sismiques, des capteurs (récepteurs) sont positionnés le long d'une ligne à la surface de la terre. Chacun enregistre au cours du temps le déplacement des particules (signal oscillant) qui varie lors du passage d'une onde acoustique ou élastique. Cet enregistrement s'appelle une **trace**. Chaque trace correspond à une *colonne* de l'image presentée au début de la section 2 (une seule position spatiale, un signal qui dépend du temps).\n",
    "\n",
    "En pratique, il arrive que certains capteurs sont défaillants ou encore qu'ils ne sont pas présents dans certaines zones (pour des problèmes d'accessibilité par exemple). L'objectif principal du mini-projet est de reconstituer les traces manquantes.\n",
    "\n",
    "*Hypothèses* : nous ferons l'hypothèse importante que les **signaux d'une trace peuvent être *localement* prédits à partir d'une trace voisine, par un simple décalage temporel** (voir la partie \"Première Analyse\" pour une définition précise). \n",
    "\n",
    "*Notions abordées* : \n",
    "* Analyse des signaux dans le domain d'origine ;\n",
    "* Analyse des signaux après transformée de Fourier 2d ;\n",
    "* Régularisation et formulation sous forme de problème inverse.\n",
    "\n",
    "Pour cela, trois approches sont considerées :\n",
    "* *Approche 1* : analyse dans le domaine $(x,t)$ : identification de 3 temps et de 3 pentes, sélection d'une ondelette source, prédiction des données manquantes ;\n",
    "* *Approche 2* : transformée de Fourier 2d, identification des événements principaux, définition d'un masque et reconstitution des traces manquantes ;\n",
    "* *Approche 3* (optionelle) : suite de l'approche 2 pour s'assurer que la prédiction respecte bien les observables. Elle se fait au travers de la résolution d'un problème inverse avec ajout de régularisation.\n",
    "\n",
    "*Attentes* :\n",
    "* Développement des approches 1 et 2 sur des données fournies ici ;\n",
    "* Discusssion sur une comaparaison entre les approches 1 et 2, en particulier sur les avantages et limites des approches. Application de l'approche 1 ou 2 sur un exemple que vous pourrez créer vous-mêmes.\n",
    "\n",
    "*Consignes* :\n",
    "* **Très important** : pour toutes les figures, bien indiquer les axes avec les bonnes unités et des labels lisibles ;\n",
    "* L'approche 3 est optionnelle."
   ]
  },
  {
   "cell_type": "code",
   "execution_count": null,
   "metadata": {
    "ExecuteTime": {
     "end_time": "2022-03-30T12:10:21.541724Z",
     "start_time": "2022-03-30T12:10:21.258126Z"
    }
   },
   "outputs": [],
   "source": [
    "import numpy as np\n",
    "import matplotlib.pyplot as plt\n",
    "# Only for question 4 (optional)\n",
    "from scipy.optimize import minimize"
   ]
  },
  {
   "cell_type": "markdown",
   "metadata": {},
   "source": [
    "**Lecture des données**"
   ]
  },
  {
   "cell_type": "code",
   "execution_count": null,
   "metadata": {
    "ExecuteTime": {
     "end_time": "2022-03-30T12:10:22.766714Z",
     "start_time": "2022-03-30T12:10:22.757070Z"
    }
   },
   "outputs": [],
   "source": [
    "# Labelsize (display)\n",
    "labelsize   = 14\n",
    "    \n",
    "# Load the input data\n",
    "# Input data (with missing traces)\n",
    "gpanel = np.load('gpanel.npy')\n",
    "# Dense data (with all traces, only for comparison)\n",
    "panel_dense = np.load('panel_dense.npy')\n",
    "nt, nx = gpanel.shape\n",
    "print(\"Dimension des panneaux (axes temps et espace):\",nt,nx)\n",
    "\n",
    "# Missing traces (index number)\n",
    "mtr = [2,5,6,11,12,20,21,22,23]\n",
    "\n",
    "# Vertical axis -- time\n",
    "dt   = 3.125e-3  # increment (s)\n",
    "at   = np.linspace(0,dt*(nt-1),nt)\n",
    "# Horizontal axis -- space\n",
    "dx   = 10. # increment (m)\n",
    "ax   = np.linspace(0,dx*(nx-1),nx)"
   ]
  },
  {
   "cell_type": "code",
   "execution_count": null,
   "metadata": {},
   "outputs": [],
   "source": [
    "first_sensor = gpanel[:,1]\n",
    "\n",
    "fig = plt.figure()\n",
    "av = plt.subplot(111)\n",
    "plt.plot(at, first_sensor)\n",
    "plt.title('Signal reçu par le premier capteur au cours du temps', fontsize = labelsize)\n",
    "av.set_ylabel(\"Déplacement u (m)\", fontsize = labelsize)\n",
    "av.set_xlabel(\"Time (s)\", fontsize = labelsize)\n",
    "av.tick_params(axis='both', which='major', labelsize=labelsize)\n",
    "plt.set_cmap('bwr')\n"
   ]
  },
  {
   "cell_type": "markdown",
   "metadata": {},
   "source": [
    "**Affichage des données**"
   ]
  },
  {
   "cell_type": "code",
   "execution_count": null,
   "metadata": {
    "ExecuteTime": {
     "end_time": "2022-03-30T12:10:24.817140Z",
     "start_time": "2022-03-30T12:10:24.525394Z"
    },
    "scrolled": false
   },
   "outputs": [],
   "source": [
    "# Display of the input data\n",
    "vmax    = np.max(np.abs(gpanel))\n",
    "fig = plt.figure()\n",
    "av = plt.subplot(111)\n",
    "plt.imshow(gpanel,extent=[ax[0],ax[-1],at[-1],at[0]],aspect='auto')\n",
    "plt.title('Observables (avec traces manquantes, mises à zero)', fontsize = labelsize)\n",
    "av.set_ylabel(\"Time (s)\", fontsize = labelsize)\n",
    "av.set_xlabel(\"Position x (m)\", fontsize = labelsize)\n",
    "av.tick_params(axis='both', which='major', labelsize=labelsize)\n",
    "plt.clim([-vmax,vmax])\n",
    "plt.set_cmap('bwr')\n",
    "\n",
    "fig = plt.figure()\n",
    "av = plt.subplot(111)\n",
    "plt.imshow(panel_dense,extent=[ax[0],ax[-1],at[-1],at[0]],aspect='auto')\n",
    "plt.title('Observables non disponibles (seulement pour comparaison)', fontsize = labelsize)\n",
    "av.set_ylabel(\"Time (s)\", fontsize = labelsize)\n",
    "av.set_xlabel(\"Position x (m)\", fontsize = labelsize)\n",
    "av.tick_params(axis='both', which='major', labelsize=labelsize)\n",
    "plt.clim([-vmax,vmax])\n",
    "plt.set_cmap('bwr')"
   ]
  },
  {
   "cell_type": "markdown",
   "metadata": {},
   "source": [
    "# Première Analyse\n",
    "* Dans les 2 images plus haut, 3 événements principaux ressortent. Ils sont associés à 3 temps différents (pour $x = 0$ m) et à 3 pentes différentes représentées ici :\n",
    "\n",
    "<img src=\"data.png\" width=\"400\">\n",
    "\n",
    "* Nous ferons l'hypothèse que ces événements sont linéaires, c'est-à-dire qu'il est possible de prédire une trace à une position $x$ connaissant les temps $t_i$ à la position $x_0 = 0$ m, les pentes $p_i$ et une fonction $S(t)$ appelee ondelette source  :\n",
    "$$u(t,x) \\simeq \\sum_{i=1}^{3} S(t - t_i - p_i(x-x_0))$$\n",
    "\n",
    "* Quelle est l'unité des pentes $p_i$? Donner les valeurs approximatives de ces 3 pentes $p_i$ et des 3 temps $t_i$.\n",
    "\n",
    "D'après la formule, les $p_i x$ sont homogènes à un temps, donc $[p_i] = T.L^{-1}$ soit la dimension de l'inverse d'une vitesse.\n",
    "\n",
    "**Aliasing spatial**\n",
    "\n",
    "Sur l'image suivante, des événements sont visibles à gauche, avec une pente bien visible $p_1$. Sur la partie de droite de l'image, deux pentes sont identifiables $p_2$ et $p_3$. Pourtant on peut suivre des événement de gauche à droite : c'est l'effet d'aliasing spatial.\n",
    "\n",
    "<img src=\"aliasing.png\" width=\"400\">\n",
    "\n",
    "Construisez des données comme suit, avec les mêmes échantillonages temporel et spatial que sur l'exemple avec les données manquantes : \n",
    "$$d(t,x) = \\sin(2 \\pi f_c (t - p\\cdot x))$$\n",
    "$f_c$ est la fréquence caractéristique du signal (pour l'obtenir, calculer les spectres de plusieurs traces et déterminer $f_c$ comme valeur pour laquelle le spectre est en moyenne le plus grand). Tracer $d(t,x)$ pour différentes valeurs de $p$, en commençant par $p=0$. La pente visible dans les données augmente avec $p$, jusqu'à un certain moment : c'est l'effet d'aliasing spatial. Est-il possible de retrouver le cas $p=0$ pour un $p$ non nul? A partir des observations, proposer un critère à respecter pour éviter l'aliasing spatial. Ce critère est une relation entre $p$, $f_c$ et la distance $dx$ (ici 10 m) entre 2 traces consécutives. Vérifier si les pentes $p_i$ conduisent ou pas à de l'aliasing spatial."
   ]
  },
  {
   "cell_type": "markdown",
   "metadata": {},
   "source": [
    "<font color = \"#ee58f5\">\n",
    "\n",
    "## Détermination de $f_c$"
   ]
  },
  {
   "cell_type": "code",
   "execution_count": null,
   "metadata": {},
   "outputs": [],
   "source": [
    "#Déterminer t1, t2 et t3.\n",
    "\n",
    "plt.plot(gpanel[:,15])\n",
    "plt.show()\n",
    " \n",
    "t3 = at[60]\n",
    "t1 = at[127]\n",
    "t2 = at[350]\n",
    "\n",
    "#p1 = (trace())/(ax[150]-ax[0])\n",
    "\n",
    "print(at[127])\n"
   ]
  },
  {
   "cell_type": "code",
   "execution_count": null,
   "metadata": {},
   "outputs": [],
   "source": [
    "def trace(x):\n",
    "    return gpanel[:,x]"
   ]
  },
  {
   "cell_type": "code",
   "execution_count": null,
   "metadata": {},
   "outputs": [],
   "source": [
    "plt.plot(trace(15))\n",
    "plt.show()\n",
    "\n",
    "t_p3 = 350\n",
    "t_p1 = 225\n",
    "t_p2 = 70\n",
    "\n",
    "p1 = (at[t_p1] - t1) / 150\n",
    "p2 = (at[t_p2] - t2) / 150\n",
    "p3 = (at[t_p3] - t3) / 150\n",
    "\n",
    "print(p1,p2,p3)"
   ]
  },
  {
   "cell_type": "code",
   "execution_count": null,
   "metadata": {},
   "outputs": [],
   "source": [
    "def fc():\n",
    "    #nt, nx = gpanel.shape\n",
    "    sum_spectre = np.fft.fft(trace(0))\n",
    "    for x in range(1,nx):\n",
    "        sum_spectre += np.fft.fft(trace(x))\n",
    "    return sum_spectre"
   ]
  },
  {
   "cell_type": "code",
   "execution_count": null,
   "metadata": {},
   "outputs": [],
   "source": [
    "spectre = fc()[0:200]\n",
    "plt.plot(spectre)\n",
    "max = np.argmax(spectre[0:50])\n",
    "print(max)"
   ]
  },
  {
   "cell_type": "markdown",
   "metadata": {},
   "source": [
    "<font color = \"#ee58f5\">\n",
    "\n",
    "La méthode utilisée pour trouver $f_c$ n'étant pas précisée, nous en appliquerons deux:\n",
    "* pour chaque \"trace\", trouver la fréquence d'amplitude maximale puis faire la moyenne de ces fréquences\n",
    "* effectuer la somme des spectres des traces puis trouver la fréquence d'amplitude maximale"
   ]
  },
  {
   "cell_type": "code",
   "execution_count": null,
   "metadata": {},
   "outputs": [],
   "source": [
    "# choix de fréquences\n",
    "frequences = np.fft.fftfreq(nt,dt)[:200]\n",
    "\n",
    "# liste des fréquences maximales\n",
    "fc_list = []\n",
    "# somme des spectre\n",
    "spectre_sum = np.zeros(len(frequences)) \n",
    "fig, ax1 = plt.subplots(figsize = (10,5))\n",
    "for i in range(nx):\n",
    "    if i not in mtr:\n",
    "        fft = np.fft.fft(trace(i))[:200]\n",
    "        spectre = 2.0/nt * np.abs(fft)\n",
    "        \n",
    "        spectre_sum += spectre # mise à jour de la somme\n",
    "        fc_list.append(frequences[np.argmax(spectre)]) # stockage de la fréquence \n",
    "        \n",
    "        ax1.plot(frequences, spectre)\n",
    "ax1.set_xlabel(\"Fréquences [Hz]\")\n",
    "ax1.set_ylabel(\"Fourier spectre\")\n",
    "ax1.grid()\n",
    "\n",
    "fc1 = np.mean(fc_list)\n",
    "fc2 = frequences[np.argmax(spectre_sum)]\n",
    "ax1.set_title(f\"Spectres de toutes les traces : fc1 = {'%.2e' % fc1} Hz, fc2 = {'%.2e' % fc2} Hz\")\n",
    "\n",
    "print(frequences[199])"
   ]
  },
  {
   "cell_type": "code",
   "execution_count": null,
   "metadata": {},
   "outputs": [],
   "source": [
    "def d(p, fc):\n",
    "    d_p = np.zeros((nt,nx))\n",
    "    for x in range(nx):\n",
    "        for t in range(nt):\n",
    "            d_p[t,x] = np.sin(2 * np.pi * fc * (t * dt - p * x * dx))\n",
    "    return d_p"
   ]
  },
  {
   "cell_type": "code",
   "execution_count": null,
   "metadata": {},
   "outputs": [],
   "source": [
    "l = [0, 1/4, 1/2, 3/4, 1]\n",
    "n = len(l)\n",
    "fc = fc1\n",
    "\n",
    "plt.figure(figsize=(20,8))\n",
    "plt.gcf().subplots_adjust(left = 0.125, bottom = 0.2, \n",
    "                                        right = 1.5, \n",
    "                                        top = 0.9, \n",
    "                                        wspace = 0.2, \n",
    "                                        hspace = 0)\n",
    "\n",
    "i = 1\n",
    "for k in l:\n",
    "    \n",
    "    plt.subplot(1,n,i)\n",
    "    p_k = k /(fc * dx)\n",
    "    d_p = d(p_k, fc)\n",
    "\n",
    "    vmax = np.max(np.abs(d_p))\n",
    "    plt.imshow(d_p,extent=[ax[0],ax[-1],at[-1],at[0]],aspect='auto')\n",
    "    plt.title(r\"$d(x,t)$\" + f\"pour p = {p_k:.3f}\", fontsize = labelsize)\n",
    "    av.set_ylabel(\"Time (s)\", fontsize = labelsize)\n",
    "    av.set_xlabel(\"Position x (m)\", fontsize = labelsize)\n",
    "    av.tick_params(axis='both', which='major', labelsize=labelsize)\n",
    "    plt.clim([-vmax,vmax])\n",
    "    plt.set_cmap('bwr')\n",
    "\n",
    "    i+=1\n",
    "\n",
    "plt.show()"
   ]
  },
  {
   "cell_type": "markdown",
   "metadata": {},
   "source": [
    "## Critère de non-repliment de spectre (alising)"
   ]
  },
  {
   "cell_type": "markdown",
   "metadata": {},
   "source": [
    "# Approche 1 : Reconstitution des Données dans le Domaine $(x,t)$\n",
    "\n",
    "## Détermination de $S(t)$\n",
    "\n",
    "Sélectionner une trace (par exemple pour $x$ autour de 250 m et déterminer $S(t)$ avec l'hypothèse que $S(t)$ est maximale pour $t=0$. Prendre pour le support de $S$ une fenêtre de longueur autour de 0.2 s. Afficher le résultat."
   ]
  },
  {
   "cell_type": "code",
   "execution_count": null,
   "metadata": {},
   "outputs": [],
   "source": [
    "plt.plot(at-0.9,trace(25))\n",
    "plt.plot(at[0:50],1.25*np.sinc(21*at[0:50]))\n",
    "plt.plot()\n",
    "plt.show()"
   ]
  },
  {
   "cell_type": "code",
   "execution_count": null,
   "metadata": {},
   "outputs": [],
   "source": [
    "def S(t):\n",
    "    if abs(t) < 0.19:\n",
    "        return 1.25*np.sinc(21*t)\n",
    "    else:\n",
    "        return 0"
   ]
  },
  {
   "cell_type": "code",
   "execution_count": null,
   "metadata": {},
   "outputs": [],
   "source": [
    "S_liste = [S(t) for t in np.linspace(-1,1,1000)]\n",
    "plt.plot(np.linspace(-1,1,1000),S_liste)"
   ]
  },
  {
   "cell_type": "markdown",
   "metadata": {
    "ExecuteTime": {
     "end_time": "2022-03-21T08:31:22.109149Z",
     "start_time": "2022-03-21T08:31:22.106720Z"
    }
   },
   "source": [
    "## Détermination des $(t_i,p_i)$\n",
    "\n",
    "A partir de la première trace en $x_0=0$, calculer pour plusieurs temps et pour plusieurs pentes les sommations suivantes :\n",
    "\n",
    "$$F(t,p) = \\Bigg[\\int \\,u(t-p\\cdot(x-x_0),x)\\,dx\\Bigg]^2$$\n",
    "\n",
    "A quoi correspondent les maxima de $F$? En déduire les valeurs de $(t_i,p_i)$ pour $i\\in[1,3]$. Bien choisir l'échantillonnage en temps et en pente pour une bonne détermination des $(t_i,p_i)$. \n",
    "\n",
    "Remarques :\n",
    "* Par exemple, il peut être intéressant d'interpoler linéairement entre 2 points voisins si $t - p\\cdot(x-x_0)$ ne tombe pas sur un point de grille ;\n",
    "* Pour une bonne estimation, l'échantillonnage des pentes doit être suffisament fin ;\n",
    "* Il est possible de reprendre une idée du TP \"synthèse musicale\" pour sélectionner itérativement les meilleurs $(t_i,p_i)$, mais ici en 2d.\n",
    "\n",
    "Reconstruire les données à partir de l'équation (1) et des valeurs $(t_i,p_i)$ sélectionnées. Commentez les résultats."
   ]
  },
  {
   "cell_type": "markdown",
   "metadata": {},
   "source": [
    "<font color = \"#ee58f5\">\n",
    "\n",
    "## Réponse\n",
    "\n",
    "Les maximas de la $F$ correspondent aux extremas de la fonction $(t,p) \\mapsto \\displaystyle \\int_{x_0}^{x_m} \\,u\\big(t-p\\cdot(x-x_0),x\\big)\\,dx$ où $x_m = 300m$. <br>\n",
    "Cette fonction quantifie le déplacement algébrique total le long de la portion de droite comprise entre $x_0$ et $x_m$ d'équation $$y = t - p\\cdot(x - x_0)$$ dans le plan $(x, y)$. <br>\n",
    "Cette fonction présente un extrema pour les couples $(t, p)$ qui paramètrent les \"lignes\" (bleues et rouges) visibles sur l'image."
   ]
  },
  {
   "cell_type": "code",
   "execution_count": null,
   "metadata": {},
   "outputs": [],
   "source": [
    "def u_inter(t,x):\n",
    "    alpha = x/dx\n",
    "    beta = t/dt\n",
    "    nx = int(x/dx)\n",
    "    nt = int(t/dt)\n",
    "    a = alpha - nx\n",
    "    b = beta - nt\n",
    "    try:\n",
    "        res = 0.5 * ((1-a)*gpanel[nt,nx] + a*gpanel[nt+1,nx] + (1-b)*gpanel[nt,nx] + b*gpanel[nt,nx+1]) \n",
    "    except IndexError:\n",
    "        return 0\n",
    "    return res    "
   ]
  },
  {
   "cell_type": "code",
   "execution_count": null,
   "metadata": {},
   "outputs": [],
   "source": [
    "def u(t,x):\n",
    "    nx = int(x/dx)\n",
    "    nt = int(t/dt)\n",
    "    try:\n",
    "        res = gpanel[nt,nx]\n",
    "    except IndexError:\n",
    "        return 0\n",
    "    return res"
   ]
  },
  {
   "cell_type": "code",
   "execution_count": null,
   "metadata": {},
   "outputs": [],
   "source": [
    "trace0_inter = [u_inter(t,0) for t in at]\n",
    "trace0 = [u(t,0) for t in at]\n",
    "plt.plot(trace0)\n",
    "plt.plot(trace0_inter)"
   ]
  },
  {
   "cell_type": "code",
   "execution_count": null,
   "metadata": {},
   "outputs": [],
   "source": [
    "def F(params):\n",
    "    t,p = params \n",
    "    return -1 * np.sum([u_inter(t-p*x,x)**2 for x in ax])"
   ]
  },
  {
   "cell_type": "code",
   "execution_count": null,
   "metadata": {},
   "outputs": [],
   "source": [
    "print(F((at[t_p1],p1)))\n",
    "print(F((at[t_p2],p2)))\n",
    "print(F((at[t_p3],p3)))"
   ]
  },
  {
   "cell_type": "code",
   "execution_count": null,
   "metadata": {},
   "outputs": [],
   "source": [
    "minimize(F,(at[t_p1],p1),bounds = ((0,1.2),(-0.01,0.01)))"
   ]
  },
  {
   "cell_type": "code",
   "execution_count": null,
   "metadata": {},
   "outputs": [],
   "source": [
    "minimize(F,(at[t_p2],p2),bounds = ((0,1.2),(-0.01,0.01)))"
   ]
  },
  {
   "cell_type": "code",
   "execution_count": null,
   "metadata": {},
   "outputs": [],
   "source": [
    "minimize(F,(at[t_p3],p3), bounds = ((0,1.2),(-0.01,0.01)))"
   ]
  },
  {
   "cell_type": "code",
   "execution_count": null,
   "metadata": {},
   "outputs": [],
   "source": [
    "minimize(F,(0,0), bounds = ((0,1.2),(-0.01,0.01)))"
   ]
  },
  {
   "cell_type": "code",
   "execution_count": null,
   "metadata": {},
   "outputs": [],
   "source": [
    "# Annulation d'une droite\n",
    "# Supposons avoir trouvé une droite pertinente. et donc un couple (t,p)\n",
    "\n",
    "def cancel(ti,pi,eps):\n",
    "    data = gpanel.copy()\n",
    "    for x in ax:\n",
    "        for t in at:\n",
    "            if abs(t-(ti - pi*x)) < eps:\n",
    "                data[int(t/dt),int(x/dx)] = 0\n",
    "    vmax = np.max(np.abs(data))\n",
    "    plt.imshow(data,extent=[ax[0],ax[-1],at[-1],at[0]],aspect='auto')\n",
    "    plt.title(r\"Annulation de la droite $({pi},{ti})$\", fontsize = labelsize)  \n",
    "    av.set_ylabel(\"Time (s)\", fontsize = labelsize)\n",
    "    av.set_xlabel(\"Position x (m)\", fontsize = labelsize)\n",
    "    av.tick_params(axis='both', which='major', labelsize=labelsize)\n",
    "    plt.clim([-vmax,vmax])\n",
    "    plt.set_cmap('bwr')\n",
    "    plt.show()\n",
    "\n",
    "cancel(1.0937,0.006,0.1)"
   ]
  },
  {
   "cell_type": "code",
   "execution_count": null,
   "metadata": {},
   "outputs": [],
   "source": [
    "cancel(0.21875,-0.00583333,0.1)"
   ]
  },
  {
   "cell_type": "code",
   "execution_count": null,
   "metadata": {},
   "outputs": [],
   "source": []
  },
  {
   "cell_type": "markdown",
   "metadata": {},
   "source": [
    "# Approche 2 : Analyse des Données dans le Domaine de Fourier 2d\n",
    "\n",
    "## Approche théorique\n",
    "Calculer la transformée de Fourier 2d de $u$ à partir de la transformée de Fourier 1d de $S$. Expliquer toujours à partir des équations pourquoi on s'attend à avoir 3 événements linéaires dans le domaine de Fourier. Pourquoi tous ces événements passent-ils par l'origine $(0,0)$ dans le domaine de Fourier? Donner une expression quantitative entre les pentes dans le domaine de Fourier et les pentes $p_i$.  "
   ]
  },
  {
   "cell_type": "markdown",
   "metadata": {},
   "source": [
    "<font color = \"#ee58f5\">\n",
    "\n",
    "On a choisi comme fonction d'ondelette la fonction \n",
    "\n",
    "$$\n",
    "S :\n",
    "\\left\\lbrace\n",
    "\\begin{array}{ccc}\n",
    "\\mathbb{R} & \\longrightarrow & \\mathbb{R} \\\\\n",
    "t & \\longmapsto & \\mathbb{1}_{[-\\tau, \\tau]}sinc(\\alpha t) \n",
    "\\end{array}\\right.\n",
    "$$\n",
    "\n",
    "où $\\tau = 0.2s$ et $\\alpha = ?$.\n",
    "\n",
    "$S$ est de carré intégrable sur $\\mathbb{R}$, ce qui assure que $u$ le soit sur $\\mathbb{R}^2$ (en prolongeant à $L^{2}(\\mathbb{R}^2)$ la transformée de Fourier sur l'espace de Schwartz). <br>\n",
    "Par ailleurs , comme chacune des fonctions $S_i : (t, x) \\in \\mathbb{R}^2 \\rightarrow S(t - t_i - p_i(x - x_0))$ est de carré intégrable, par linéarité de la transformée de Fourrier, on a :\n",
    "\n",
    "$$\n",
    "\\begin{aligned}\n",
    "\\forall (\\omega, \\xi) \\in \\mathbb{R}^2 \\ \\hat{u}(\\omega, \\xi) &= \\sum_{i = 1}^3 \\hat{S_i}(\\omega, \\xi)\\\\\n",
    "&= \\sum_{i = 1}^3 \\int_{\\mathbb{R}} \\int_{\\mathbb{R}} S\\big(t - t_i - p_i(x - x_0)\\big) e^{-i(\\xi x + \\omega t)} \\mathrm{d}t \\: \\mathrm{d}x \n",
    "\\\\\n",
    "&= \\sum_{i = 1}^3 \\int_{\\mathbb{R}} \\int_{\\mathbb{R}} S(v) e^{-i\\omega v} \\: e^{-i \\Big(\\xi x + \\omega \\big(t_i + p_i(x - x_0)\\big)\\Big)}\\mathrm{d}t \\: \\mathrm{d}x \n",
    "\\\\\n",
    "&= \\sum_{i = 1}^3 \\int_{\\mathbb{R}} \\hat{S}(\\omega) \\: e^{-i \\Big(\\xi x + \\omega \\big(t_i + p_i(x - x_0)\\big)\\Big)} \\: \\mathrm{d}x \n",
    "\\\\\n",
    "&= \\hat{S}(\\omega)  \\sum_{i = 1}^3 e^{-i \\omega (t_i - p_i x_0)} \\: \\int_{\\mathbb{R}} e^{-i (\\xi + \\omega p_i)x} \\mathrm{d}x \n",
    "\\\\\n",
    "&= \\hat{S}(\\omega) \\sum_{i = 1}^3 e^{-i \\omega (t_i - p_i x_0)} \\: \\delta(\\xi + \\omega p_i)\n",
    "\\end{aligned}\n",
    "$$\n",
    "\n",
    "Les écritures ci-dessus sont à prendre au sens de limites d'intégrales de fonctions dans l'espace de Schwartz. On se place dans le cadre de la théorie des distributions en introduisant la fonction de Dirac \"$\\delta$\"."
   ]
  },
  {
   "cell_type": "markdown",
   "metadata": {},
   "source": [
    "<font color = \"#ee58f5\">\n",
    "\n",
    "On observe que comme son analogue dans le domaine spatial et temporel, la transformée de Fourier du déplacement de trois contributions. Ces contributions sont les termes en \n",
    "$\\hat{S}(\\omega) \\: e^{-i \\omega (t_i - p_i x_0)} \\: \\delta(\\xi + \\omega p_i)$ pour $i \\in. \\{1, 2, 3\\}$. \n",
    "À $\\omega$ et $\\xi$ fixés, elles sont toutes nulles si et seulement si $\\omega  = - \\frac{1}{p_i} \\xi$. Ces équations représentent des évènement linéaires de coeffficients \n",
    "directeurs $- \\frac{1}{p_1}$, $- \\frac{1}{p_2}$ et $- \\frac{1}{p_3}$ dans le domaine de Fourier. <br>\n",
    "Par ailleurs ces relations imposent que ces évènements passent tous par l'origine $(0, 0)$ du domaine de Fourier."
   ]
  },
  {
   "cell_type": "markdown",
   "metadata": {},
   "source": [
    "## Implémentation\n",
    "Représenter la transformée de Fourier 2d et bien préciser les axes. Indiquer à quoi correspondent la fréquence maximale et le nombre d'onde maximal. Faire le lien entre les 3 événements dans l'espace $(t,x)$ et ceux dans l'espace de Fourier. Expliquer ce qu'il se passe aux bords dans le domaine de Fourier. N'hesitez pas à zoomer autour de la position centrale dans le domaine de Fourier.\n",
    "\n",
    "Remarques : \n",
    "* Le nombre d'onde (en 1/m) est l'équivalent de la fréquence pour l'axe spatial ;\n",
    "* Le signal a très peu d'énergie pour les fréquences au-delà de 20 Hz."
   ]
  },
  {
   "cell_type": "markdown",
   "metadata": {},
   "source": [
    "<font color = \"#ee58f5\">\n",
    "\n",
    "# Réponse\n",
    "\n",
    "Pour représenter la transformée de Fourier 2d, nous avons fait le choix de la repésenter sur une fenêtre centrée au tour de \n",
    "l'origine en utilisant donc `np.fft.fftshift`."
   ]
  },
  {
   "cell_type": "code",
   "execution_count": null,
   "metadata": {},
   "outputs": [],
   "source": [
    "fft2D_gpanel = np.abs(np.fft.fft2(gpanel))\n",
    "\n",
    "freq_t = np.fft.fftshift(np.fft.fftfreq(nt, dt))\n",
    "freq_x = np.fft.fftshift(np.fft.fftfreq(nx, dx))\n",
    "\n",
    "data_fft2 = np.fft.fftshift(fft2D_gpanel)[:][160:240]\n",
    "\n",
    "vmax = np.max(data_fft2)\n",
    "axisx = freq_x\n",
    "axisy = freq_t[160:240]\n",
    "fig = plt.figure()\n",
    "X, Y = np.meshgrid(axisx, axisy)\n",
    "plt.pcolor(X, Y, data_fft2, shading='nearest')\n",
    "plt.title(\"Transformée de Fourier du signal à l'aide de numpy\", fontsize = labelsize)\n",
    "plt.xlabel(\"Longueur d'onde ($m^{-1}$)\", fontsize = labelsize)\n",
    "plt.ylabel(\"Fréquence ($s^{-1}$)\", fontsize = labelsize)\n",
    "plt.set_cmap('viridis')\n",
    "plt.clim(0,vmax)\n",
    "plt.colorbar()\n",
    "\n",
    "plt.text(-0.01, 7, r'$\\alpha$', fontdict=None,\n",
    "         backgroundcolor = 'white', \n",
    "         fontweight = 'bold')\n",
    "\n",
    "plt.text(-0.0375, 1, r'$\\beta$', fontdict=None,\n",
    "         backgroundcolor = 'white', \n",
    "         fontweight = 'bold')\n",
    "\n",
    "plt.text(-0.0375, 13, r'$\\gamma$', fontdict=None,\n",
    "         backgroundcolor = 'white', \n",
    "         fontweight = 'bold')\n"
   ]
  },
  {
   "cell_type": "code",
   "execution_count": null,
   "metadata": {},
   "outputs": [],
   "source": [
    "import cmath\n",
    "\n",
    "tau = 0.2\n",
    "alpha = 21\n",
    "\n",
    "t3 = at[60]\n",
    "t1 = at[127]\n",
    "t2 = at[350]\n",
    "\n",
    "p1 = (at[225] - t1)/150\n",
    "p2 = (at[65] - t2)/150\n",
    "p3 = (at[350] - t3)/150\n",
    "\n",
    "def f(w):\n",
    "    S = np.sin((alpha - w) * tau) / (alpha - w)\n",
    "    S += np.sin((alpha + w) * tau) / (alpha + w)  \n",
    "    sum = 0\n",
    "    for (ti, pi) in [(t1, p1), (t2, p2), (t3, p3)]:\n",
    "        arg = - w * ti\n",
    "        sum += complex(np.cos(arg), np.sin(arg))\n",
    "    \n",
    "    return np.abs(S * sum)\n",
    "\n",
    "\n",
    "X = np.linspace(0, 20, 100)\n",
    "Y1 = [(np.sin((alpha - x) * tau) / (alpha - x)) + (np.sin((alpha + x) * tau) / (alpha + x)) for x in X] \n",
    "Y2 = [f(x) for x in X]\n",
    "\n",
    "plt.plot(X, Y1)\n",
    "plt.plot(X, Y2)\n",
    "plt.show()\n",
    "#print(p1, p2, p3)"
   ]
  },
  {
   "cell_type": "markdown",
   "metadata": {},
   "source": [
    "<font color = \"#ee58f5\">\n",
    "\n",
    "La fréquence maximale et le nombre d'onde maximal sont donnés respectivement par \n",
    "$\\frac{1}{\\mathrm{d}t}$ et $\\frac{1}{\\mathrm{d}x}$. On remarque que les constantes $\\mathrm{d}x$ et $\\mathrm{d}t$ \n",
    "qui définissent les \"fréquences d'échantillonage\" limitent également la résolution.\n",
    "    \n",
    "On iditenfie les évènements dans le domaine de Fourier à ceux du domaine réel par leur pente, ainsi on a :\n",
    "* $\\alpha = -\\frac{1}{p_1}$\n",
    "* $\\beta = -\\frac{1}{p_2}$\n",
    "* $\\gamma = -\\frac{1}{p_3}$\n",
    "\n",
    "Le tracé du module de la transformée de Fourier est incohérent avec le graphique."
   ]
  },
  {
   "cell_type": "markdown",
   "metadata": {},
   "source": [
    "## Définition d'un masque dans le domaine de Fourier 2d\n",
    "On note $f$ la fréquence et $k_x$ le nombre d'onde. Dans le domaine de Fourier 2d, on souhaite définir un masque avec des 1 qui couvrent les événements principaux. A partir de $(f,k_x)=(0,0)$, faire des sommations selon différentes pentes (dans le domaine de Fourier, après avoir pris le module des valeurs complexes) et tracer la valeur de ces sommes en fonction de la pente. On s'attend à ce que 3 valeurs ressortent. Calculer une fonction qui sélectionne automatiquement ces valeurs et construire un masque dans le domaine de Fourier 2d qui vaut 1 autour de ces trois valeurs principales et 0 en dehors.\n",
    "\n",
    "Comment faire pour prendre en compte ce qui se passe aux bords dans le dommaine de Fourier?"
   ]
  },
  {
   "cell_type": "code",
   "execution_count": null,
   "metadata": {},
   "outputs": [],
   "source": [
    "nt, nx = fft2D_gpanel.shape"
   ]
  },
  {
   "cell_type": "code",
   "execution_count": null,
   "metadata": {},
   "outputs": [],
   "source": [
    "nf, nk = fft2D_gpanel.shape\n",
    "# Vertical axis -- time\n",
    "dt   = 3.125e-3  # increment (s)\n",
    "df = 1/dt\n",
    "af   = np.linspace(0,df*(nf-1),nf)\n",
    "# Horizontal axis -- space\n",
    "dx   = 10. # increment (m)\n",
    "dk = 1/dx\n",
    "ak   = np.linspace(0,dk*(nk-1),nk)"
   ]
  },
  {
   "cell_type": "code",
   "execution_count": null,
   "metadata": {},
   "outputs": [],
   "source": [
    "def u(f,k):\n",
    "    nk = int(k/dk)\n",
    "    nf = int(f/df)\n",
    "    try:\n",
    "        res = fft2D_gpanel[nf,nk]\n",
    "    except IndexError:\n",
    "        return 0\n",
    "    return res\n",
    "\n",
    "def F(p):\n",
    "    return -1 * np.sum([u(p*k,k) for k in ak])\n",
    "\n",
    "F_liste = [F(p) for p in np.linspace()]\n",
    "plt.plot(F())"
   ]
  },
  {
   "cell_type": "markdown",
   "metadata": {},
   "source": [
    "## Application du masque et analyse des résultats\n",
    "Appliquer le masque (sur les données après transformée de Fourier 2d, sans prendre le module des valeurs), puis appliquer la transformée de Fourier inverse. Commenter les résultats (comparaison à la fois dans les domaines $(t,x)$ et $(f,k_x)$. Si nécessaire, revenir à la question précédente pour changer le masque et avoir une meilleure interpolation des données. Expliquer ces changements. Discuter de l'importance du masque."
   ]
  },
  {
   "cell_type": "markdown",
   "metadata": {},
   "source": [
    "# Approche 3 : Amélioration de l'Approche 2 (*partie optionelle*)\n",
    "Le résultat de l'approche 2 montre en pratique que les données prédites après transformée de Fourier inverse 2d ne calent pas parfaitement aux données observées (pour les traces non nulles). C'est un inconvénient, mais d'un autre côté, ceci offre la possibilité d'aller plus loin pour forcer un bon calage.\n",
    "\n",
    "Pour cela, nous définissons une fonction objective\n",
    "\n",
    "$$\n",
    "J[p] = \\frac{1}{2}||T p - p^\\mathrm{obs}||_2^2 + \\frac{\\alpha}{2} || F p ||_M^2\n",
    "$$\n",
    "\n",
    "ou $p(t,x)$ sont les signaux (sur toutes les traces), $T$ l'operateur qui vaut 1 pour des traces existantes et 0 sinon, $p^\\mathrm{obs}(t,x)$ les observables (i.e. pour les traces non nulles), $F$ la transformee de Fourier 2d. La norme $||p||_2^2 = \\sum_x \\sum_t |p(t,x)|^2$ et $||q||_M^2= \\sum_x \\sum_t M(f,k_x)|q(f,k_x)|^2$, avec $M$ un masque défini dans le domaine de Fourier. Le poids $\\alpha$ est une pondération entre les deux termes.\n",
    "\n",
    "On cherche à minimiser $J$. Le meilleur $p$ sera celui qui minimise l'écart aux données (premier terme) tout en minimisant l'énergie dans le domaine de Fourier 2d (avec présence du masque). Par rapport au masque $M_0$ des questions 2 et 3, on prend ici $M=1 - M_0$. Expliquer pourquoi.\n",
    "\n",
    "La minimisation se fait de manière itérative, avec la fonction ```minimize``` de scipy (```from scipy.optimize import minimize```). Parmi plusieurs possibilités, je suggère de prendre une approche de gradient conjugué (CG). La minisation va se faire selon :\n",
    "\n",
    "```\n",
    "res = minimize(defj, p0, method='CG', jac=defg, \\\n",
    "        options={'disp': True, 'maxiter':niter})\n",
    "```\n",
    "\n",
    "Il faut donc créer une valeur initiale pour $p$ (ici ```p0```), spécifier le nombre d'itérations ```niter``` et surtour définir la fonction objective ```defj()``` et son gradient par rapport à $p$ ```defg()```.\n",
    "\n",
    "Le gradient est donné par \n",
    "\n",
    "$$\n",
    "\\frac{\\partial J}{\\partial p} = T^t(T p - p^\\mathrm{obs}) + \\alpha F^t M F p\n",
    "$$\n",
    "\n",
    "où $^t$ est l'opérateur transposé. L'application de $T^t$ correspond donc à insérer des traces nulles là où il n'y a pas d'observables et $F^t$ est la transformée de Fourier inverse.\n",
    "\n",
    "Construire les fonctions ```defj()``` et ```defg()```. Attention, ```minimize``` attend que ```p``` soit sous forme de vecteur. On peut donc utiliser ```np.transpose(p,nt*nx)``` (voir plus bas dans l'exemple).\n",
    "\n",
    "$\\alpha$ est une pondération dont la valeur est à tester.\n",
    "\n",
    "La valeur initiale ```p0``` de $p$ peut être prise égale à ```gpanel``` (le tableau lu au debut du code).\n",
    "\n",
    "Faire plusieurs itérations. Analyser les résultats à la fois dans le domaine temporel et dans le domaine de Fourier 2d. Etudier l'importance de la régulariation."
   ]
  },
  {
   "cell_type": "code",
   "execution_count": null,
   "metadata": {
    "ExecuteTime": {
     "end_time": "2022-03-30T09:57:39.049771Z",
     "start_time": "2022-03-30T09:57:39.043390Z"
    }
   },
   "outputs": [],
   "source": [
    "# Exemple de structure du code\n",
    "def defj(p):\n",
    "    \"\"\"Definition of the objective function\"\"\"\n",
    "    # Retrieve the size\n",
    "    pan = np.reshape(p,[nt,nx])\n",
    "    j0  = 0.\n",
    "    #\n",
    "    # ADD\n",
    "    #\n",
    "    return j0\n",
    "    \n",
    "    \n",
    "def defg(p):\n",
    "    \"\"\"Definition of the gradient of the objective function\"\"\"\n",
    "    # Retrieve the size\n",
    "    pan = np.reshape(p,[nt,nx])\n",
    "    grd = np.zeros([nt,nx])\n",
    "    #\n",
    "    # ADD\n",
    "    #\n",
    "    # Return with vector size\n",
    "    return np.reshape(grd,nt*nx)"
   ]
  },
  {
   "cell_type": "code",
   "execution_count": null,
   "metadata": {
    "ExecuteTime": {
     "end_time": "2022-03-30T09:57:48.879003Z",
     "start_time": "2022-03-30T09:57:48.822213Z"
    }
   },
   "outputs": [],
   "source": [
    "# Iterative mininisation (example)\n",
    "niter = 10 # number of iterations\n",
    "p0 = np.reshape(np.copy(gpanel),nt*nx)\n",
    "res = minimize(defj, p0, method='cg', \\\n",
    "                jac=defg, \\\n",
    "                options={'disp': True, 'maxiter':niter})\n",
    "# Final panel\n",
    "panelf = np.reshape(res.x,[nt,nx])"
   ]
  },
  {
   "cell_type": "markdown",
   "metadata": {},
   "source": [
    "# Analyse des Limites des Approches\n",
    "Proposer une analyse des avantages et limites des approches 1, 2 (et 3 le cas échéant). Tester la robustesse au travers de d'autres applications. Par exemple, vous pouvez :\n",
    "* Ajouter du bruit (gaussien ou non) sur les données ;\n",
    "* Avoir des événements linéaires avec des amplitudes différentes ;\n",
    "* Ajouter des délais en temps pour chaque position en $x$ et comparer les résultats ;\n",
    "* Rnlever encore plus de données en entrée (plus de traces blanches) ;\n",
    "* Application sur des images totalement différentes.\n",
    "\n",
    "**Cette dernière partie est très ouverte, et je fais appel à votre créativité.**"
   ]
  }
 ],
 "metadata": {
  "interpreter": {
   "hash": "3d597f4c481aa0f25dceb95d2a0067e73c0966dcbd003d741d821a7208527ecf"
  },
  "kernelspec": {
   "display_name": "Python 3.9.5 ('base')",
   "language": "python",
   "name": "python3"
  },
  "language_info": {
   "codemirror_mode": {
    "name": "ipython",
    "version": 3
   },
   "file_extension": ".py",
   "mimetype": "text/x-python",
   "name": "python",
   "nbconvert_exporter": "python",
   "pygments_lexer": "ipython3",
   "version": "3.9.5"
  },
  "latex_envs": {
   "LaTeX_envs_menu_present": true,
   "autoclose": false,
   "autocomplete": true,
   "bibliofile": "biblio.bib",
   "cite_by": "apalike",
   "current_citInitial": 1,
   "eqLabelWithNumbers": true,
   "eqNumInitial": 1,
   "hotkeys": {
    "equation": "Ctrl-E",
    "itemize": "Ctrl-I"
   },
   "labels_anchors": false,
   "latex_user_defs": false,
   "report_style_numbering": false,
   "user_envs_cfg": false
  },
  "toc": {
   "base_numbering": 1,
   "nav_menu": {},
   "number_sections": true,
   "sideBar": true,
   "skip_h1_title": false,
   "title_cell": "Table of Contents",
   "title_sidebar": "Contents",
   "toc_cell": false,
   "toc_position": {},
   "toc_section_display": true,
   "toc_window_display": false
  },
  "varInspector": {
   "cols": {
    "lenName": 16,
    "lenType": 16,
    "lenVar": 40
   },
   "kernels_config": {
    "python": {
     "delete_cmd_postfix": "",
     "delete_cmd_prefix": "del ",
     "library": "var_list.py",
     "varRefreshCmd": "print(var_dic_list())"
    },
    "r": {
     "delete_cmd_postfix": ") ",
     "delete_cmd_prefix": "rm(",
     "library": "var_list.r",
     "varRefreshCmd": "cat(var_dic_list()) "
    }
   },
   "types_to_exclude": [
    "module",
    "function",
    "builtin_function_or_method",
    "instance",
    "_Feature"
   ],
   "window_display": false
  }
 },
 "nbformat": 4,
 "nbformat_minor": 2
}
